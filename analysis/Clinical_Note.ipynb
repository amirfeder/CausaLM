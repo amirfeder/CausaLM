{
 "cells": [
  {
   "cell_type": "code",
   "execution_count": 101,
   "metadata": {},
   "outputs": [],
   "source": [
    "note = \"Julie reports that depressive symptoms continue. Her symptoms, she reports, are more frequent or more intense. Anergia is present. Increased symptoms of anhedonia are present. Julie's difficulty with concentrating has not changed. Julie reports that she continues to feel sad. Guilty feelings are described by Julie. 'I should have been with my sister, I had no idea she was suicidal.' Sleep has improved with the use of PRN Ambien CR at HS. Julie convincingly denies suicidal ideas or intentions. \\\n",
    "Basic Behaviors: \\\n",
    "Medication has been taken regularly. She needs help with ADLs. When she attends activities participation is minimal. Prn's are used occasionally and are described as effective for her headaches. Impulsive behaviors are occurring, but less frequently. Julie has diminished food and fluid intake. Julie has not been confused. A good night's sleep is described.\\\n",
    "Additional Signs or Possible Side Effects: \\\n",
    "Sedative effects of the medication are described. \\\n",
    "Patient reports a dry mouth. \\\n",
    "No other side effects are reported or in evidence. \\\n",
    "MENTAL STATUS: \\\n",
    "Julie presents as glum, downcast, inattentive, minimally communicative, and looks unhappy. She appears listless and anergic. She appears downcast. Thought content is depressed. Slowness of physical movement helps reveal depressed mood. Facial expression and general demeanor reveal depressed mood. She denies having suicidal ideas. There are no apparent signs of hallucinations, delusions, bizarre behaviors, or other indicators of psychotic process. Associations are intact, thinking is logical, and thought content appears appropriate. There are signs of anxiety. Patient is fidgety in a way that is suggestive of anxiety.\\\n",
    "Special Circumstances: \\\n",
    "Julie continues to have an unsteady gait, especially after midnight. Call light is within her reach. She has been instructed to ring for the nurse to assist her when ambulating to bathroom.\\\n",
    "Vital Signs: \\\n",
    "Sitting blood pressure is 150 / 85. Sitting pulse rate is 80. Respiratory rate is 18 per minute. Temperature is 98+\\\n",
    "degrees F. Weight is 155 lbs. (70.3 Kg).\""
   ]
  },
  {
   "cell_type": "code",
   "execution_count": 102,
   "metadata": {},
   "outputs": [
    {
     "name": "stdout",
     "output_type": "stream",
     "text": [
      "['Julie', 'reports', 'that', 'depressive', 'symptoms', 'continue.', 'Her', 'symptoms,', 'she', 'reports,', 'are', 'more', 'frequent', 'or', 'more', 'intense.', 'Anergia', 'is', 'present.', 'Increased', 'symptoms', 'of', 'anhedonia', 'are', 'present.', \"Julie's\", 'difficulty', 'with', 'concentrating', 'has', 'not', 'changed.', 'Julie', 'reports', 'that', 'she', 'continues', 'to', 'feel', 'sad.', 'Guilty', 'feelings', 'are', 'described', 'by', 'Julie.', \"'I\", 'should', 'have', 'been', 'with', 'my', 'sister,', 'I', 'had', 'no', 'idea', 'she', 'was', \"suicidal.'\", 'Sleep', 'has', 'improved', 'with', 'the', 'use', 'of', 'PRN', 'Ambien', 'CR', 'at', 'HS.', 'Julie', 'convincingly', 'denies', 'suicidal', 'ideas', 'or', 'intentions.', 'Basic', 'Behaviors:', 'Medication', 'has', 'been', 'taken', 'regularly.', 'She', 'needs', 'help', 'with', 'ADLs.', 'When', 'she', 'attends', 'activities', 'participation', 'is', 'minimal.', \"Prn's\", 'are', 'used', 'occasionally', 'and', 'are', 'described', 'as', 'effective', 'for', 'her', 'headaches.', 'Impulsive', 'behaviors', 'are', 'occurring,', 'but', 'less', 'frequently.', 'Julie', 'has', 'diminished', 'food', 'and', 'fluid', 'intake.', 'Julie', 'has', 'not', 'been', 'confused.', 'A', 'good', \"night's\", 'sleep', 'is', 'described.Additional', 'Signs', 'or', 'Possible', 'Side', 'Effects:', 'Sedative', 'effects', 'of', 'the', 'medication', 'are', 'described.', 'Patient', 'reports', 'a', 'dry', 'mouth.', 'No', 'other', 'side', 'effects', 'are', 'reported', 'or', 'in', 'evidence.', 'MENTAL', 'STATUS:', 'Julie', 'presents', 'as', 'glum,', 'downcast,', 'inattentive,', 'minimally', 'communicative,', 'and', 'looks', 'unhappy.', 'She', 'appears', 'listless', 'and', 'anergic.', 'She', 'appears', 'downcast.', 'Thought', 'content', 'is', 'depressed.', 'Slowness', 'of', 'physical', 'movement', 'helps', 'reveal', 'depressed', 'mood.', 'Facial', 'expression', 'and', 'general', 'demeanor', 'reveal', 'depressed', 'mood.', 'She', 'denies', 'having', 'suicidal', 'ideas.', 'There', 'are', 'no', 'apparent', 'signs', 'of', 'hallucinations,', 'delusions,', 'bizarre', 'behaviors,', 'or', 'other', 'indicators', 'of', 'psychotic', 'process.', 'Associations', 'are', 'intact,', 'thinking', 'is', 'logical,', 'and', 'thought', 'content', 'appears', 'appropriate.', 'There', 'are', 'signs', 'of', 'anxiety.', 'Patient', 'is', 'fidgety', 'in', 'a', 'way', 'that', 'is', 'suggestive', 'of', 'anxiety.Special', 'Circumstances:', 'Julie', 'continues', 'to', 'have', 'an', 'unsteady', 'gait,', 'especially', 'after', 'midnight.', 'Call', 'light', 'is', 'within', 'her', 'reach.', 'She', 'has', 'been', 'instructed', 'to', 'ring', 'for', 'the', 'nurse', 'to', 'assist', 'her', 'when', 'ambulating', 'to', 'bathroom.Vital', 'Signs:', 'Sitting', 'blood', 'pressure', 'is', '150', '/', '85.', 'Sitting', 'pulse', 'rate', 'is', '80.', 'Respiratory', 'rate', 'is', '18', 'per', 'minute.', 'Temperature', 'is', '98+degrees', 'F.', 'Weight', 'is', '155', 'lbs.', '(70.3', 'Kg).']\n",
      "Quantile: 10\n",
      "2\n",
      "Quantile: 15\n",
      "2\n",
      "Quantile: 20\n",
      "3\n",
      "Quantile: 25\n",
      "3\n",
      "Quantile: 30\n",
      "3\n",
      "Quantile: 35\n",
      "4\n",
      "Quantile: 40\n",
      "4\n",
      "Quantile: 45\n",
      "5\n",
      "Quantile: 50\n",
      "5\n",
      "Quantile: 55\n",
      "5\n",
      "Quantile: 60\n",
      "6\n",
      "Quantile: 65\n",
      "7\n",
      "Quantile: 70\n",
      "7\n",
      "Quantile: 75\n",
      "8\n",
      "Quantile: 80\n",
      "8\n",
      "Quantile: 85\n",
      "9\n",
      "Quantile: 90\n",
      "10\n",
      "Quantile: 95\n",
      "11\n"
     ]
    }
   ],
   "source": [
    "note_words = note.split()\n",
    "print(note_words)\n",
    "note_words_len = [len(word) for word in note_words]\n",
    "note_words_len_avg = sum(note_words_len) / len(note_words_len)\n",
    "\n",
    "note_words_len_sorted = sorted(note_words_len)\n",
    "\n",
    "quantile = 90\n",
    "for quantile in range(10,100,5):\n",
    "    print(\"Quantile: \" + str(quantile))\n",
    "    print(note_words_len_sorted[int(len(note_words_len)*quantile/100)])"
   ]
  },
  {
   "cell_type": "code",
   "execution_count": 103,
   "metadata": {},
   "outputs": [
    {
     "data": {
      "text/plain": [
       "\" Julie reports \\textcolor{green}{\\textbf{that}} \\textcolor{orange}{\\textbf{depressive}} symptoms \\textcolor{orange}{\\textbf{continue.}} \\textcolor{green}{\\textbf{Her}} \\textcolor{orange}{\\textbf{symptoms,}} \\textcolor{green}{\\textbf{she}} reports, \\textcolor{green}{\\textbf{are}} \\textcolor{green}{\\textbf{more}} frequent \\textcolor{green}{\\textbf{or}} \\textcolor{green}{\\textbf{more}} intense. Anergia \\textcolor{green}{\\textbf{is}} present. \\textcolor{orange}{\\textbf{Increased}} symptoms \\textcolor{green}{\\textbf{of}} \\textcolor{orange}{\\textbf{anhedonia}} \\textcolor{green}{\\textbf{are}} present. Julie's \\textcolor{orange}{\\textbf{difficulty}} \\textcolor{green}{\\textbf{with}} \\textcolor{red}{\\textbf{concentrating}} \\textcolor{green}{\\textbf{has}} \\textcolor{green}{\\textbf{not}} changed. Julie reports \\textcolor{green}{\\textbf{that}} \\textcolor{green}{\\textbf{she}} \\textcolor{orange}{\\textbf{continues}} \\textcolor{green}{\\textbf{to}} \\textcolor{green}{\\textbf{feel}} \\textcolor{green}{\\textbf{sad.}} Guilty feelings \\textcolor{green}{\\textbf{are}} \\textcolor{orange}{\\textbf{described}} \\textcolor{green}{\\textbf{by}} Julie. \\textcolor{green}{\\textbf{'I}} should \\textcolor{green}{\\textbf{have}} \\textcolor{green}{\\textbf{been}} \\textcolor{green}{\\textbf{with}} \\textcolor{green}{\\textbf{my}} sister, \\textcolor{green}{\\textbf{I}} \\textcolor{green}{\\textbf{had}} \\textcolor{green}{\\textbf{no}} \\textcolor{green}{\\textbf{idea}} \\textcolor{green}{\\textbf{she}} \\textcolor{green}{\\textbf{was}} \\textcolor{orange}{\\textbf{suicidal.'}} Sleep \\textcolor{green}{\\textbf{has}} improved \\textcolor{green}{\\textbf{with}} \\textcolor{green}{\\textbf{the}} \\textcolor{green}{\\textbf{use}} \\textcolor{green}{\\textbf{of}} \\textcolor{green}{\\textbf{PRN}} Ambien \\textcolor{green}{\\textbf{CR}} \\textcolor{green}{\\textbf{at}} \\textcolor{green}{\\textbf{HS.}} Julie \\textcolor{red}{\\textbf{convincingly}} denies suicidal ideas \\textcolor{green}{\\textbf{or}} \\textcolor{red}{\\textbf{intentions.}} Basic \\textcolor{orange}{\\textbf{Behaviors:}} \\textcolor{orange}{\\textbf{Medication}} \\textcolor{green}{\\textbf{has}} \\textcolor{green}{\\textbf{been}} taken \\textcolor{orange}{\\textbf{regularly.}} \\textcolor{green}{\\textbf{She}} needs \\textcolor{green}{\\textbf{help}} \\textcolor{green}{\\textbf{with}} ADLs. \\textcolor{green}{\\textbf{When}} \\textcolor{green}{\\textbf{she}} attends \\textcolor{orange}{\\textbf{activities}} \\textcolor{red}{\\textbf{participation}} \\textcolor{green}{\\textbf{is}} minimal. Prn's \\textcolor{green}{\\textbf{are}} \\textcolor{green}{\\textbf{used}} \\textcolor{red}{\\textbf{occasionally}} \\textcolor{green}{\\textbf{and}} \\textcolor{green}{\\textbf{are}} \\textcolor{orange}{\\textbf{described}} \\textcolor{green}{\\textbf{as}} \\textcolor{orange}{\\textbf{effective}} \\textcolor{green}{\\textbf{for}} \\textcolor{green}{\\textbf{her}} \\textcolor{orange}{\\textbf{headaches.}} \\textcolor{orange}{\\textbf{Impulsive}} \\textcolor{orange}{\\textbf{behaviors}} \\textcolor{green}{\\textbf{are}} \\textcolor{orange}{\\textbf{occurring,}} \\textcolor{green}{\\textbf{but}} \\textcolor{green}{\\textbf{less}} \\textcolor{red}{\\textbf{frequently.}} Julie \\textcolor{green}{\\textbf{has}} \\textcolor{orange}{\\textbf{diminished}} \\textcolor{green}{\\textbf{food}} \\textcolor{green}{\\textbf{and}} fluid intake. Julie \\textcolor{green}{\\textbf{has}} \\textcolor{green}{\\textbf{not}} \\textcolor{green}{\\textbf{been}} \\textcolor{orange}{\\textbf{confused.}} \\textcolor{green}{\\textbf{A}} \\textcolor{green}{\\textbf{good}} night's sleep \\textcolor{green}{\\textbf{is}} \\textcolor{red}{\\textbf{described.Additional}} Signs \\textcolor{green}{\\textbf{or}} Possible \\textcolor{green}{\\textbf{Side}} Effects: Sedative effects \\textcolor{green}{\\textbf{of}} \\textcolor{green}{\\textbf{the}} \\textcolor{orange}{\\textbf{medication}} \\textcolor{green}{\\textbf{are}} \\textcolor{orange}{\\textbf{described.}} Patient reports \\textcolor{green}{\\textbf{a}} \\textcolor{green}{\\textbf{dry}} mouth. \\textcolor{green}{\\textbf{No}} other \\textcolor{green}{\\textbf{side}} effects \\textcolor{green}{\\textbf{are}} reported \\textcolor{green}{\\textbf{or}} \\textcolor{green}{\\textbf{in}} \\textcolor{orange}{\\textbf{evidence.}} MENTAL STATUS: Julie presents \\textcolor{green}{\\textbf{as}} glum, \\textcolor{orange}{\\textbf{downcast,}} \\textcolor{red}{\\textbf{inattentive,}} \\textcolor{orange}{\\textbf{minimally}} \\textcolor{red}{\\textbf{communicative,}} \\textcolor{green}{\\textbf{and}} looks unhappy. \\textcolor{green}{\\textbf{She}} appears listless \\textcolor{green}{\\textbf{and}} anergic. \\textcolor{green}{\\textbf{She}} appears \\textcolor{orange}{\\textbf{downcast.}} Thought content \\textcolor{green}{\\textbf{is}} \\textcolor{orange}{\\textbf{depressed.}} Slowness \\textcolor{green}{\\textbf{of}} physical movement helps reveal \\textcolor{orange}{\\textbf{depressed}} mood. Facial \\textcolor{orange}{\\textbf{expression}} \\textcolor{green}{\\textbf{and}} general demeanor reveal \\textcolor{orange}{\\textbf{depressed}} mood. \\textcolor{green}{\\textbf{She}} denies having suicidal ideas. There \\textcolor{green}{\\textbf{are}} \\textcolor{green}{\\textbf{no}} apparent signs \\textcolor{green}{\\textbf{of}} \\textcolor{red}{\\textbf{hallucinations,}} \\textcolor{orange}{\\textbf{delusions,}} bizarre \\textcolor{orange}{\\textbf{behaviors,}} \\textcolor{green}{\\textbf{or}} other \\textcolor{orange}{\\textbf{indicators}} \\textcolor{green}{\\textbf{of}} \\textcolor{orange}{\\textbf{psychotic}} process. \\textcolor{red}{\\textbf{Associations}} \\textcolor{green}{\\textbf{are}} intact, thinking \\textcolor{green}{\\textbf{is}} logical, \\textcolor{green}{\\textbf{and}} thought content appears \\textcolor{red}{\\textbf{appropriate.}} There \\textcolor{green}{\\textbf{are}} signs \\textcolor{green}{\\textbf{of}} anxiety. Patient \\textcolor{green}{\\textbf{is}} fidgety \\textcolor{green}{\\textbf{in}} \\textcolor{green}{\\textbf{a}} \\textcolor{green}{\\textbf{way}} \\textcolor{green}{\\textbf{that}} \\textcolor{green}{\\textbf{is}} \\textcolor{orange}{\\textbf{suggestive}} \\textcolor{green}{\\textbf{of}} \\textcolor{red}{\\textbf{anxiety.Special}} \\textcolor{red}{\\textbf{Circumstances:}} Julie \\textcolor{orange}{\\textbf{continues}} \\textcolor{green}{\\textbf{to}} \\textcolor{green}{\\textbf{have}} \\textcolor{green}{\\textbf{an}} unsteady gait, \\textcolor{orange}{\\textbf{especially}} after \\textcolor{orange}{\\textbf{midnight.}} \\textcolor{green}{\\textbf{Call}} light \\textcolor{green}{\\textbf{is}} within \\textcolor{green}{\\textbf{her}} reach. \\textcolor{green}{\\textbf{She}} \\textcolor{green}{\\textbf{has}} \\textcolor{green}{\\textbf{been}} \\textcolor{orange}{\\textbf{instructed}} \\textcolor{green}{\\textbf{to}} \\textcolor{green}{\\textbf{ring}} \\textcolor{green}{\\textbf{for}} \\textcolor{green}{\\textbf{the}} nurse \\textcolor{green}{\\textbf{to}} assist \\textcolor{green}{\\textbf{her}} \\textcolor{green}{\\textbf{when}} \\textcolor{orange}{\\textbf{ambulating}} \\textcolor{green}{\\textbf{to}} \\textcolor{red}{\\textbf{bathroom.Vital}} Signs: Sitting blood pressure \\textcolor{green}{\\textbf{is}} \\textcolor{green}{\\textbf{150}} \\\\ \\textcolor{green}{\\textbf{/}} \\textcolor{green}{\\textbf{85.}} Sitting pulse \\textcolor{green}{\\textbf{rate}} \\textcolor{green}{\\textbf{is}} \\textcolor{green}{\\textbf{80.}} \\textcolor{red}{\\textbf{Respiratory}} \\textcolor{green}{\\textbf{rate}} \\textcolor{green}{\\textbf{is}} \\textcolor{green}{\\textbf{18}} \\textcolor{green}{\\textbf{per}} minute. \\textcolor{red}{\\textbf{Temperature}} \\textcolor{green}{\\textbf{is}} \\textcolor{orange}{\\textbf{98+degrees}} \\textcolor{green}{\\textbf{F.}} Weight \\textcolor{green}{\\textbf{is}} \\textcolor{green}{\\textbf{155}} \\textcolor{green}{\\textbf{lbs.}} (70.3 \\textcolor{green}{\\textbf{Kg).}}\""
      ]
     },
     "execution_count": 103,
     "metadata": {},
     "output_type": "execute_result"
    }
   ],
   "source": [
    "higlighted_text = ''\n",
    "\n",
    "for word in note_words:\n",
    "    if word == '/':\n",
    "        higlighted_text += \" \\\\\"\n",
    "    if len(word) > note_words_len_sorted[int(len(note_words_len)*90/100)]:\n",
    "        higlighted_text += \" \\textcolor{red}{\\textbf{\" + word + \"}}\"\n",
    "    elif len(word) > note_words_len_sorted[int(len(note_words_len)*75/100)]:\n",
    "        higlighted_text += \" \\textcolor{orange}{\\textbf{\" + word + \"}}\"\n",
    "    elif len(word) < note_words_len_sorted[int(len(note_words_len)*50/100)]:\n",
    "        higlighted_text += \" \\textcolor{green}{\\textbf{\" + word + \"}}\"\n",
    "    else:\n",
    "        higlighted_text += \" \" + word\n",
    "\n",
    "higlighted_text"
   ]
  },
  {
   "cell_type": "code",
   "execution_count": 42,
   "metadata": {},
   "outputs": [],
   "source": [
    "# Type Group Category # Description\n",
    "# Style \n",
    "# Lexical \n",
    "# Word-level 2 Average word length, number of short words\n",
    "# Char-level 2 Percentage of digits, percentage of uppercase letters\n",
    "# Letters 26 Letter frequency\n",
    "# Digits 10 Digit frequency\n",
    "\n",
    "# Vocabulary richness\n",
    "# 2 Richness (hapax-legomena and dislegomena)\n",
    "# Syntactic Function words 174 Frequency of function words\n",
    "# Punctuation 12 Occurrence of punctuation"
   ]
  },
  {
   "cell_type": "code",
   "execution_count": null,
   "metadata": {},
   "outputs": [],
   "source": []
  }
 ],
 "metadata": {
  "kernelspec": {
   "display_name": "Python 3",
   "language": "python",
   "name": "python3"
  },
  "language_info": {
   "codemirror_mode": {
    "name": "ipython",
    "version": 3
   },
   "file_extension": ".py",
   "mimetype": "text/x-python",
   "name": "python",
   "nbconvert_exporter": "python",
   "pygments_lexer": "ipython3",
   "version": "3.6.9"
  }
 },
 "nbformat": 4,
 "nbformat_minor": 2
}
