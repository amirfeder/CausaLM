{
 "cells": [
  {
   "cell_type": "code",
   "execution_count": 1,
   "metadata": {},
   "outputs": [],
   "source": [
    "text = \"President Trump did his best imitation of Ronald Reagan at the State of the Union address, falling just short of declaring it Morning in America, the iconic imagery and message of a campaign ad that Reagan rode to re-election in 1984. Trump talked of Americans as pioneers and explorers; he lavished praise on members of the military, several of whom he recognized from the podium; he optimistically declared that the best is yet to come. It was a masterful performance -- but behind the sunny smile was the same old Trump: petty, angry, vindictive and deceptive. He refused to shake the hand of House Speaker Nancy Pelosi, a snub she returned in kind by ostentatiously ripping up her copy of the President's speech at the conclusion of the address, in full view of the cameras.\""
   ]
  },
  {
   "cell_type": "code",
   "execution_count": 2,
   "metadata": {},
   "outputs": [],
   "source": [
    "text_split = text.split(\" \")"
   ]
  },
  {
   "cell_type": "code",
   "execution_count": 4,
   "metadata": {},
   "outputs": [
    {
     "name": "stdout",
     "output_type": "stream",
     "text": [
      "['President', 'Trump', 'did', 'his', 'best', 'imitation', 'of', 'Ronald', 'Reagan', 'at', 'the', 'State', 'of', 'the', 'Union', 'address,', 'falling', 'just', 'short', 'of', 'declaring', 'it', 'Morning', 'in', 'America,', 'the', 'iconic', 'imagery', 'and', 'message', 'of', 'a', 'campaign', 'ad', 'that', 'Reagan', 'rode', 'to', 're-election', 'in', '1984.', 'Trump', 'talked', 'of', 'Americans', 'as', 'pioneers', 'and', 'explorers;', 'he', 'lavished', 'praise', 'on', 'members', 'of', 'the', 'military,', 'several', 'of', 'whom', 'he', 'recognized', 'from', 'the', 'podium;', 'he', 'optimistically', 'declared', 'that', 'the', 'best', 'is', 'yet', 'to', 'come.', 'It', 'was', 'a', 'masterful', 'performance', '--', 'but', 'behind', 'the', 'sunny', 'smile', 'was', 'the', 'same', 'old', 'Trump:', 'petty,', 'angry,', 'vindictive', 'and', 'deceptive.', 'He', 'refused', 'to', 'shake', 'the', 'hand', 'of', 'House', 'Speaker', 'Nancy', 'Pelosi,', 'a', 'snub', 'she', 'returned', 'in', 'kind', 'by', 'ostentatiously', 'ripping', 'up', 'her', 'copy', 'of', 'the', \"President's\", 'speech', 'at', 'the', 'conclusion', 'of', 'the', 'address,', 'in', 'full', 'view', 'of', 'the', 'cameras.']\n"
     ]
    }
   ],
   "source": [
    "print(text_split)"
   ]
  },
  {
   "cell_type": "code",
   "execution_count": 5,
   "metadata": {},
   "outputs": [],
   "source": [
    "from nltk import sent_tokenize, word_tokenize, pos_tag"
   ]
  },
  {
   "cell_type": "code",
   "execution_count": 7,
   "metadata": {},
   "outputs": [
    {
     "name": "stdout",
     "output_type": "stream",
     "text": [
      "4\n"
     ]
    }
   ],
   "source": [
    "tokenized_sentences = sent_tokenize(text)\n",
    "print(len(tokenized_sentences))"
   ]
  },
  {
   "cell_type": "code",
   "execution_count": 11,
   "metadata": {},
   "outputs": [],
   "source": [
    "tokenized_words = [word_tokenize(sent) for sent in sent_tokenize(text)]\n",
    "pos_tags = [pos_tag(word_tokenize(sent)) for sent in sent_tokenize(text)]"
   ]
  },
  {
   "cell_type": "code",
   "execution_count": 12,
   "metadata": {},
   "outputs": [
    {
     "name": "stdout",
     "output_type": "stream",
     "text": [
      "[[('President', 'NNP'), ('Trump', 'NNP'), ('did', 'VBD'), ('his', 'PRP$'), ('best', 'JJS'), ('imitation', 'NN'), ('of', 'IN'), ('Ronald', 'NNP'), ('Reagan', 'NNP'), ('at', 'IN'), ('the', 'DT'), ('State', 'NNP'), ('of', 'IN'), ('the', 'DT'), ('Union', 'NNP'), ('address', 'NN'), (',', ','), ('falling', 'VBG'), ('just', 'RB'), ('short', 'RB'), ('of', 'IN'), ('declaring', 'VBG'), ('it', 'PRP'), ('Morning', 'NNP'), ('in', 'IN'), ('America', 'NNP'), (',', ','), ('the', 'DT'), ('iconic', 'JJ'), ('imagery', 'NN'), ('and', 'CC'), ('message', 'NN'), ('of', 'IN'), ('a', 'DT'), ('campaign', 'NN'), ('ad', 'NN'), ('that', 'WDT'), ('Reagan', 'NNP'), ('rode', 'VBD'), ('to', 'TO'), ('re-election', 'NN'), ('in', 'IN'), ('1984', 'CD'), ('.', '.')], [('Trump', 'NNP'), ('talked', 'VBD'), ('of', 'IN'), ('Americans', 'NNPS'), ('as', 'IN'), ('pioneers', 'NNS'), ('and', 'CC'), ('explorers', 'NNS'), (';', ':'), ('he', 'PRP'), ('lavished', 'VBD'), ('praise', 'NN'), ('on', 'IN'), ('members', 'NNS'), ('of', 'IN'), ('the', 'DT'), ('military', 'JJ'), (',', ','), ('several', 'JJ'), ('of', 'IN'), ('whom', 'WP'), ('he', 'PRP'), ('recognized', 'VBD'), ('from', 'IN'), ('the', 'DT'), ('podium', 'NN'), (';', ':'), ('he', 'PRP'), ('optimistically', 'RB'), ('declared', 'VBD'), ('that', 'IN'), ('the', 'DT'), ('best', 'JJS'), ('is', 'VBZ'), ('yet', 'RB'), ('to', 'TO'), ('come', 'VB'), ('.', '.')], [('It', 'PRP'), ('was', 'VBD'), ('a', 'DT'), ('masterful', 'JJ'), ('performance', 'NN'), ('--', ':'), ('but', 'CC'), ('behind', 'IN'), ('the', 'DT'), ('sunny', 'JJ'), ('smile', 'NN'), ('was', 'VBD'), ('the', 'DT'), ('same', 'JJ'), ('old', 'JJ'), ('Trump', 'NN'), (':', ':'), ('petty', 'NN'), (',', ','), ('angry', 'JJ'), (',', ','), ('vindictive', 'JJ'), ('and', 'CC'), ('deceptive', 'JJ'), ('.', '.')], [('He', 'PRP'), ('refused', 'VBD'), ('to', 'TO'), ('shake', 'VB'), ('the', 'DT'), ('hand', 'NN'), ('of', 'IN'), ('House', 'NNP'), ('Speaker', 'NNP'), ('Nancy', 'NNP'), ('Pelosi', 'NNP'), (',', ','), ('a', 'DT'), ('snub', 'NN'), ('she', 'PRP'), ('returned', 'VBD'), ('in', 'IN'), ('kind', 'NN'), ('by', 'IN'), ('ostentatiously', 'RB'), ('ripping', 'VBG'), ('up', 'RP'), ('her', 'PRP$'), ('copy', 'NN'), ('of', 'IN'), ('the', 'DT'), ('President', 'NNP'), (\"'s\", 'POS'), ('speech', 'NN'), ('at', 'IN'), ('the', 'DT'), ('conclusion', 'NN'), ('of', 'IN'), ('the', 'DT'), ('address', 'NN'), (',', ','), ('in', 'IN'), ('full', 'JJ'), ('view', 'NN'), ('of', 'IN'), ('the', 'DT'), ('cameras', 'NNS'), ('.', '.')]]\n"
     ]
    }
   ],
   "source": [
    "print(pos_tags)"
   ]
  },
  {
   "cell_type": "code",
   "execution_count": 19,
   "metadata": {},
   "outputs": [],
   "source": [
    "text_no_jj_list = []\n",
    "\n",
    "for sentence in pos_tags:\n",
    "    for word in sentence:\n",
    "        if word[1] != 'JJ':\n",
    "            text_no_jj_list.append(word[0])\n",
    "            \n",
    "text_no_jj = ' '.join(text_no_jj_list)"
   ]
  },
  {
   "cell_type": "code",
   "execution_count": 20,
   "metadata": {},
   "outputs": [
    {
     "name": "stdout",
     "output_type": "stream",
     "text": [
      "712 778\n",
      "President Trump did his best imitation of Ronald Reagan at the State of the Union address , falling just short of declaring it Morning in America , the imagery and message of a campaign ad that Reagan rode to re-election in 1984 . Trump talked of Americans as pioneers and explorers ; he lavished praise on members of the , of whom he recognized from the podium ; he optimistically declared that the best is yet to come . It was a performance -- but behind the smile was the Trump : petty , , and . He refused to shake the hand of House Speaker Nancy Pelosi , a snub she returned in kind by ostentatiously ripping up her copy of the President 's speech at the conclusion of the address , in view of the cameras .\n"
     ]
    }
   ],
   "source": [
    "print(len(text_no_jj), len(text))\n",
    "print(text_no_jj)"
   ]
  },
  {
   "cell_type": "code",
   "execution_count": 21,
   "metadata": {},
   "outputs": [
    {
     "name": "stdout",
     "output_type": "stream",
     "text": [
      "President Trump did his best imitation of Ronald Reagan at the State of the Union address, falling just short of declaring it Morning in America, the iconic imagery and message of a campaign ad that Reagan rode to re-election in 1984. Trump talked of Americans as pioneers and explorers; he lavished praise on members of the military, several of whom he recognized from the podium; he optimistically declared that the best is yet to come. It was a masterful performance -- but behind the sunny smile was the same old Trump: petty, angry, vindictive and deceptive. He refused to shake the hand of House Speaker Nancy Pelosi, a snub she returned in kind by ostentatiously ripping up her copy of the President's speech at the conclusion of the address, in full view of the cameras.\n"
     ]
    }
   ],
   "source": [
    "print(text)"
   ]
  },
  {
   "cell_type": "code",
   "execution_count": 41,
   "metadata": {},
   "outputs": [],
   "source": [
    "printed_string = \"\"\n",
    "right_politicians = [\"Trump\", \"Ronald\", \"Reagan\"]\n",
    "left_politicians = [\"Nancy\", \"Pelosi\"]\n",
    "stops = [';', ':', '.', ',']\n",
    "more_jjs = ['petty']\n",
    "for sentence in pos_tags:\n",
    "    for word in sentence:\n",
    "        elif word[0] in stops:\n",
    "            printed_string += word[0]\n",
    "        if word[1] == 'JJ' or word[0] in more_jjs:\n",
    "            printed_string += ' ' + \"\\x1b[32m\" + word[0] + \"\\x1b[0m\"\n",
    "        elif word[0] in right_politicians:\n",
    "            printed_string += ' ' + \"\\x1b[31m\" + word[0] + \"\\x1b[0m\"\n",
    "        elif word[0] in left_politicians:\n",
    "            printed_string += ' ' + \"\\x1b[34m\" + word[0] + \"\\x1b[0m\"\n",
    "        else:\n",
    "            printed_string += ' ' + word[0]"
   ]
  },
  {
   "cell_type": "code",
   "execution_count": 42,
   "metadata": {},
   "outputs": [
    {
     "name": "stdout",
     "output_type": "stream",
     "text": [
      " President \u001b[31mTrump\u001b[0m did his best imitation of \u001b[31mRonald\u001b[0m \u001b[31mReagan\u001b[0m at the State of the Union address , falling just short of declaring it Morning in America , the \u001b[32miconic\u001b[0m imagery and message of a campaign ad that \u001b[31mReagan\u001b[0m rode to re-election in 1984 . \u001b[31mTrump\u001b[0m talked of Americans as pioneers and explorers ; he lavished praise on members of the \u001b[32mmilitary\u001b[0m , \u001b[32mseveral\u001b[0m of whom he recognized from the podium ; he optimistically declared that the best is yet to come . It was a \u001b[32mmasterful\u001b[0m performance -- but behind the \u001b[32msunny\u001b[0m smile was the \u001b[32msame\u001b[0m \u001b[32mold\u001b[0m \u001b[31mTrump\u001b[0m : \u001b[32mpetty\u001b[0m , \u001b[32mangry\u001b[0m , \u001b[32mvindictive\u001b[0m and \u001b[32mdeceptive\u001b[0m . He refused to shake the hand of House Speaker \u001b[34mNancy\u001b[0m \u001b[34mPelosi\u001b[0m , a snub she returned in kind by ostentatiously ripping up her copy of the President 's speech at the conclusion of the address , in \u001b[32mfull\u001b[0m view of the cameras .\n"
     ]
    }
   ],
   "source": [
    "print(printed_string)"
   ]
  },
  {
   "cell_type": "code",
   "execution_count": 33,
   "metadata": {},
   "outputs": [
    {
     "data": {
      "text/html": [
       "<text style=color:black>foo <text style=color:red>abc</text> bar</text>"
      ],
      "text/plain": [
       "<IPython.core.display.HTML object>"
      ]
     },
     "execution_count": 33,
     "metadata": {},
     "output_type": "execute_result"
    }
   ],
   "source": [
    "from IPython.display import HTML as html_print\n",
    "\n",
    "def cstr(s, color='black'):\n",
    "    return \"<text style=color:{}>{}</text>\".format(color, s)\n",
    "\n",
    "left, word, right = 'foo' , 'abc' , 'bar'\n",
    "html_print(cstr(' '.join([left, cstr(word, color='red'), right]), color='black') )"
   ]
  },
  {
   "cell_type": "code",
   "execution_count": null,
   "metadata": {},
   "outputs": [],
   "source": []
  }
 ],
 "metadata": {
  "kernelspec": {
   "display_name": "Python 3",
   "language": "python",
   "name": "python3"
  },
  "language_info": {
   "codemirror_mode": {
    "name": "ipython",
    "version": 3
   },
   "file_extension": ".py",
   "mimetype": "text/x-python",
   "name": "python",
   "nbconvert_exporter": "python",
   "pygments_lexer": "ipython3",
   "version": "3.6.9"
  }
 },
 "nbformat": 4,
 "nbformat_minor": 2
}
